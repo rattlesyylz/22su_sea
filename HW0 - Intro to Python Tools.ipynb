{
    "metadata": {
        "kernelspec": {
            "name": "python3",
            "display_name": "Python 3 (ipykernel)",
            "language": "python"
        }
    },
    "nbformat": 4,
    "nbformat_minor": 2,
    "cells": [
        {
            "attachments": {},
            "cell_type": "markdown",
            "metadata": {},
            "source": [
                "# Autograding Notebooks\n",
                "\n",
                "Many of the tasks we ask you to complete in programming portions of the assignments.\n",
                "\n",
                "EdStem has a built-in autograder that lets us test your notebook right here! All you need to do is complete the cells with comments that start with \n",
                "\n",
                "```\n",
                "### edTest(...) ###\n",
                "``` \n",
                "In order for us to test your cells, you need to store the results in the specified variable name somehwere in that cell. \n",
                "\n",
                "For this assignment, you will see all the tests we run and its correctness. On future assignments, we will only show you some tests so you can't solve the problems with trial-and-error.\n",
                "\n",
                "# Submitting\n",
                "To submit this assignment, you should click the **Mark** button below. Marking your notebook submits it and runs our autograder on it. You can Mark assignments as many times as you want before the deadline, and we will take the last one submitted.\n",
                "\n",
                ""
            ]
        },
        {
            "attachments": {},
            "cell_type": "markdown",
            "metadata": {},
            "source": [
                "# Problem 0 - Hello 416!\n",
                "\n",
                "In the cell below, write code to print \n",
                "\n",
                "\u003e Hello CSE/STAT 416!\n",
                "\n",
                "For all of these tests, the `### edTest(...) ###` should be the first line of the cell, and you should write your code below in that cell."
            ]
        },
        {
            "cell_type": "code",
            "execution_count": 2,
            "metadata": {},
            "outputs": [],
            "source": [
                "### edTest(test_print_hello) ###\n",
                "\n",
                ""
            ]
        },
        {
            "attachments": {},
            "cell_type": "markdown",
            "metadata": {},
            "source": [
                "# Problem 1 - Powers of Two\n",
                "\n",
                "Write code to compute the sum of the powers of two up to and including $2^{20}$. In other words, compute the value \n",
                "\n",
                "$$2^0 + 2^1 + 2^2 + ... + 2^{20}$$\n",
                "\n",
                "**Store this value in a variable named `total`**.\n",
                ""
            ]
        },
        {
            "cell_type": "code",
            "execution_count": 5,
            "metadata": {},
            "outputs": [],
            "source": [
                "### edTest(test_powers_of_two) ###\n",
                "\n",
                ""
            ]
        },
        {
            "attachments": {},
            "cell_type": "markdown",
            "metadata": {},
            "source": [
                "# Problem 2 - Average in Range\n",
                "\n",
                "Write a function named `average_in_range` that takes three parameters:\n",
                "* A list of numbers called `values`\n",
                "* A minimum number `minimum`\n",
                "* A maximum number `maximum`\n",
                "\n",
                "This function should compute the average of all the numbers in `values` that are between `minimum` (inclusive) and `maximum` (exclusive). If there are no numbers in `values` that are in this range, your function should return the value `None`. \n",
                "\n",
                "For example, if we called\n",
                "\n",
                "```\n",
                "average_in_range([1, 4, 3, 5, 2], 2, 4)\n",
                "```\n",
                "\n",
                "it should return 2.5 since only the numbers 2 and 3 fall within the range of 2 (inclusive) and 4 (exclusive)."
            ]
        },
        {
            "cell_type": "code",
            "execution_count": 0,
            "metadata": {},
            "outputs": [],
            "source": [
                "### edTest(test_average_in_range) ###\n",
                ""
            ]
        },
        {
            "attachments": {},
            "cell_type": "markdown",
            "metadata": {},
            "source": [
                "# Problem 3 - Read CSV\n",
                "\n",
                "Write code to read in the data from `people_example.csv` file into a pandas `DataFrame` with the variable name `df`. \n",
                "\n",
                "*Hint: You will need to import `pandas`!*\n",
                "\n",
                "**Store your result in a variable named `df`**."
            ]
        },
        {
            "cell_type": "code",
            "execution_count": 6,
            "metadata": {},
            "outputs": [],
            "source": [
                "### edTest(test_read_csv) ###\n",
                ""
            ]
        },
        {
            "attachments": {},
            "cell_type": "markdown",
            "metadata": {},
            "source": [
                "# Problem 4 - Get Column\n",
                "\n",
                "Write code to grab the `Last Name` column from the DataFrame you read in the previous cell and save the column values in a variable called `last_names`. **Do not read the data in from the file again.**\n",
                "\n",
                "**Store your result in a variable named `last_names`**."
            ]
        },
        {
            "cell_type": "code",
            "execution_count": 0,
            "metadata": {},
            "outputs": [],
            "source": [
                "### edTest(test_get_last_names) ###\n",
                ""
            ]
        },
        {
            "attachments": {},
            "cell_type": "markdown",
            "metadata": {},
            "source": [
                "# Problem 5 - Countries above Average age\n",
                "\n",
                "This last problem will be a bit more complex than the others. We want you to find the countries of all the people in the dataset who are older than the average age in the dataset. \n",
                "\n",
                "So for this example dataset we used here, it should return a column with the values `United States` and `Switzerland` since Bob and Derek are the only ones who are older than the average age of the dataset.\n",
                "\n",
                "The trick here is that your code should be general such that you don't hard-code the ages, names, countries for the people in this dataset shown. In other words, if I gave you a new dataset with the same columns, but with many more rows, your code should also work on that dataset.\n",
                "\n",
                "**Store your result in a variable named `countries`. Do not read the data in from the file again or hard-code any specific values or indices.**"
            ]
        },
        {
            "cell_type": "code",
            "execution_count": 0,
            "metadata": {},
            "outputs": [],
            "source": [
                "### edTest(test_country_above_average_age) ###\n",
                ""
            ]
        },
        {
            "attachments": {},
            "cell_type": "markdown",
            "metadata": {},
            "source": [
                "# All Done (with programming)! \n",
                "That's all you need to do for the programming portion of HW0! Remember to still do the conceptual portion! \n",
                "\n",
                "Before you go though, I encourage you to continue to play around with the pandas stuff below! Being familiar with these operations can help you quite a lot when we get to handling more complex machine learning tasks.\n",
                "\n",
                "Try to investigate the return types of all the results we just created (remember, you can use the `type` function to look at somethings type). Are you able to figure out the types of your answers here?"
            ]
        },
        {
            "cell_type": "code",
            "execution_count": 0,
            "metadata": {},
            "outputs": [],
            "source": [
                "# Try out your own code here! You can also make more cells below!"
            ]
        },
        {
            "cell_type": "code",
            "execution_count": 0,
            "metadata": {},
            "outputs": [],
            "source": [
                ""
            ]
        }
    ]
}
